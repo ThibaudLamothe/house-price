{
 "cells": [
  {
   "cell_type": "code",
   "execution_count": 45,
   "metadata": {},
   "outputs": [],
   "source": [
    "import nbformat\n",
    "from nbconvert.preprocessors import ExecutePreprocessor"
   ]
  },
  {
   "cell_type": "markdown",
   "metadata": {},
   "source": [
    "# Executing directly notebooks\n",
    "(And saving results into the folder `executed_notebook`)"
   ]
  },
  {
   "cell_type": "code",
   "execution_count": 46,
   "metadata": {},
   "outputs": [],
   "source": [
    "def run_notebook(file_name):\n",
    "    with open(file_name) as f:\n",
    "        nb = nbformat.read(f, as_version=4)\n",
    "    ep = ExecutePreprocessor(timeout=600000)\n",
    "    content = ep.preprocess(nb, {'metadata': {'path': ''}})\n",
    "    with open('executed_notebook/{}'.format(file_name), 'w', encoding='utf-8') as f:\n",
    "        nbformat.write(nb, f)"
   ]
  },
  {
   "cell_type": "code",
   "execution_count": 47,
   "metadata": {},
   "outputs": [
    {
     "name": "stdout",
     "output_type": "stream",
     "text": [
      ">1. realize_scrapping\n",
      ">2. clean_and_concatenate\n",
      ">3. process_data\n",
      ">4. make_analysis_of_new\n",
      ">5. alerting\n"
     ]
    }
   ],
   "source": [
    "run_notebook('realize_scraping.ipynb')\n",
    "print('>1. realize_scrapping')\n",
    "\n",
    "run_notebook('clean_and_concatenate_sources.ipynb')\n",
    "print('>2. clean_and_concatenate')\n",
    "\n",
    "run_notebook('process_data.ipynb')\n",
    "print('>3. process_data')\n",
    "\n",
    "run_notebook('make_analysis_of_new.ipynb')\n",
    "print('>4. make_analysis_of_new')\n",
    "\n",
    "run_notebook('alerting.ipynb')\n",
    "print('>5. alerting')\n"
   ]
  },
  {
   "cell_type": "markdown",
   "metadata": {},
   "source": [
    "# Transforming into python files and executing them"
   ]
  },
  {
   "cell_type": "code",
   "execution_count": 48,
   "metadata": {},
   "outputs": [
    {
     "name": "stdout",
     "output_type": "stream",
     "text": [
      "[NbConvertApp] Converting notebook realize_scraping.ipynb to script\n",
      "[NbConvertApp] Writing 4472 bytes to realize_scraping.py\n",
      "[NbConvertApp] Converting notebook make_analysis_of_new.ipynb to script\n",
      "[NbConvertApp] Writing 4531 bytes to make_analysis_of_new.py\n"
     ]
    }
   ],
   "source": [
    "!jupyter nbconvert --to=script realize_scraping.ipynb clean_and_concatenate_sources.ipynb process_data.ipynb make_analysis_of_new.ipynb alerting.ipynb"
   ]
  },
  {
   "cell_type": "code",
   "execution_count": null,
   "metadata": {},
   "outputs": [],
   "source": [
    "import os\n",
    "print('>1. realize_scrapping')\n",
    "os.system('python realize_scraping.py')\n",
    "print('>2. clean_and_concatenate_sources')\n",
    "os.system('python clean_and_concatenate_sources.py')\n",
    "print('>3. process_data')\n",
    "os.system('python process_data.py')\n",
    "print('>4. make_analysis_of_new')\n",
    "os.system('python make_analysis_of_new.py')\n",
    "print('>5. alerting')\n",
    "os.system('python alerting.py')"
   ]
  }
 ],
 "metadata": {
  "kernelspec": {
   "display_name": "Python 3",
   "language": "python",
   "name": "python3"
  },
  "language_info": {
   "codemirror_mode": {
    "name": "ipython",
    "version": 3
   },
   "file_extension": ".py",
   "mimetype": "text/x-python",
   "name": "python",
   "nbconvert_exporter": "python",
   "pygments_lexer": "ipython3",
   "version": "3.6.8"
  }
 },
 "nbformat": 4,
 "nbformat_minor": 2
}
