{
 "cells": [
  {
   "cell_type": "code",
   "execution_count": 29,
   "metadata": {},
   "outputs": [],
   "source": [
    "import os\n",
    "import json\n",
    "import numpy as np\n",
    "import pandas as pd\n",
    "import matplotlib.pyplot as plt\n",
    "from utils import functions as f\n",
    "\n",
    "pd.options.mode.chained_assignment = None"
   ]
  },
  {
   "cell_type": "markdown",
   "metadata": {},
   "source": [
    "# 1. Loading"
   ]
  },
  {
   "cell_type": "code",
   "execution_count": 12,
   "metadata": {},
   "outputs": [],
   "source": [
    "def load_processed():\n",
    "    path = 'data/processed_data/process_data.csv'\n",
    "    if os.path.isfile(path):\n",
    "        return pd.read_csv(path)\n",
    "    print('No processed data at : \\n{}'.format(path))\n",
    "    return pd.DataFrame()\n",
    "\n",
    "def load_dvf():\n",
    "    return None"
   ]
  },
  {
   "cell_type": "markdown",
   "metadata": {},
   "source": [
    "# Little exploration"
   ]
  },
  {
   "cell_type": "code",
   "execution_count": 14,
   "metadata": {},
   "outputs": [],
   "source": [
    "#df[df[['prix', 'surface', 'code_postal']].duplicated(keep=False)].sort_values('prix').head()"
   ]
  },
  {
   "cell_type": "markdown",
   "metadata": {},
   "source": [
    "# 2. Analysis"
   ]
  },
  {
   "cell_type": "code",
   "execution_count": 30,
   "metadata": {},
   "outputs": [],
   "source": [
    "def is_first_time(df):\n",
    "    if df.shape[0]==0:\n",
    "        return True\n",
    "    return False\n",
    "\n",
    "def separate_old_new(df, ts):\n",
    "    half = np.int(df.shape[0]*0.8)\n",
    "    df_old = df.iloc[:half]\n",
    "    df_new = df.iloc[half:]\n",
    "    return df_old, df_new\n",
    "\n",
    "\n",
    "def delete_viager_offers(df):\n",
    "    if 'viager' in df.columns:\n",
    "        # Deletint viager data for further analyse\n",
    "        df = df[df['viager']==False]\n",
    "        del(df['viager'])\n",
    "    else:\n",
    "        print('No column named viager')\n",
    "    return df"
   ]
  },
  {
   "cell_type": "code",
   "execution_count": 31,
   "metadata": {},
   "outputs": [],
   "source": [
    "def compute_villes_in_dfs(df_old, df_new):\n",
    "    # Looking at cities in both dataFrame and their intersection\n",
    "    ville_in_new = df_new['ville'].unique().tolist()\n",
    "    ville_in_old = df_old['ville'].unique().tolist()\n",
    "    ville_new = [ville for ville in ville_in_new if ville not in ville_in_old]\n",
    "    ville_inter = [ville for ville in ville_in_new if ville in ville_in_old]\n",
    "    ville_in_new.sort() ; ville_in_old.sort() ; ville_new.sort() ; ville_inter.sort()\n",
    "    if False:\n",
    "        print('Ville in new : {}'.format(ville_in_new))\n",
    "        print('Ville in old : {}'.format(ville_in_old))\n",
    "        print('Ville in both : {}'.format(ville_inter))\n",
    "        print('Ville new : {}'.format(ville_new))\n",
    "    return ville_inter\n",
    "\n",
    "\n",
    "def compute_mean_d1(df_old, df_new, ville_inter):\n",
    "    # Calculating information\n",
    "    old_mean = df_old.groupby('ville').mean()[['prix', 'surface', 'prix_m2']].applymap(lambda x : np.round(x,2))\n",
    "    old_d1 = df_old.groupby('ville').quantile(q=0.1)[['prix', 'surface', 'prix_m2']].applymap(lambda x : np.round(x,2))\n",
    "\n",
    "    # Computing columuns for comparison\n",
    "    df_new['moy_ville'] = df_new['ville'].apply(lambda x: old_mean.loc[x,'prix_m2'] if x in ville_inter else -1)  \n",
    "    df_new['inf_moy_ville'] = df_new['prix_m2'] < df_new['moy_ville']\n",
    "    df_new['pct_mieux_m2'] = ((df_new['prix_m2'] - df_new['moy_ville']).div(df_new['moy_ville'])*100).apply(np.round)\n",
    "\n",
    "    df_new['d1_ville'] = df_new['ville'].apply(lambda x: old_d1.loc[x,'prix_m2'] if x in ville_inter else  -1) # Ville nouvelle => Moy à 0\n",
    "    df_new['inf_d1_ville'] = df_new['prix_m2'] < df_new['d1_ville']\n",
    "\n",
    "    df_new.loc[df_new['moy_ville']<0, ['inf_moy_ville' ,'inf_d1_ville']] = False\n",
    "    df_new.loc[df_new['moy_ville']<0, [ 'd1_ville', 'pct_mieux_m2']] = np.NaN\n",
    "    return df_new\n",
    "\n",
    "\n",
    "def create_alert_d1(df_new):\n",
    "    # Selectiong only lines where price is in decil one\n",
    "    df_inf_d1 = df_new[df_new.inf_d1_ville]\n",
    "    message = ''\n",
    "    if len(df_inf_d1) == 0:\n",
    "        print('> No new line : nothing to update.')\n",
    "    else:\n",
    "        # Computing the message for slack\n",
    "\n",
    "        for key, value in df_inf_d1.ville.value_counts().sort_index().to_dict().items():\n",
    "            message += '*{}*:{} annonces décile 1.\\n'.format(key, value)\n",
    "\n",
    "        default_url = 'www.google.fr'\n",
    "        for i in df_inf_d1.sort_values(by='ville').iterrows():\n",
    "            line = i[1]\n",
    "            ville = line['ville']\n",
    "            #url = line['url']\n",
    "            url = default_url\n",
    "            prix = line['prix']\n",
    "            surface = line['surface']\n",
    "            moy_ville = line['moy_ville']\n",
    "            prix_m2 = line['prix_m2']\n",
    "            pct_mieux_m2 = line['pct_mieux_m2']\n",
    "            ville_url = '\\n<{}|{}>'.format(url, ville) \n",
    "            message += '\\n{} : {} m², {} €, \\n[€/m² *{}* vs {} : {}%]'.format(ville_url, surface, prix, prix_m2, moy_ville, pct_mieux_m2)\n",
    "    return message"
   ]
  },
  {
   "cell_type": "code",
   "execution_count": 35,
   "metadata": {},
   "outputs": [
    {
     "name": "stdout",
     "output_type": "stream",
     "text": [
      "Last analyse realised at 2019-05-30 18:48:34\n",
      "Size :  (1584, 8)\n"
     ]
    }
   ],
   "source": [
    "# Loading information of when last analyse was realized\n",
    "last_analyse = f.load_ts_analyse()\n",
    "#last_analyse = pd.Timestamp('20190425')\n",
    "print('Last analyse realised at {}'.format(last_analyse))\n",
    "\n",
    "# Loading data\n",
    "df= load_processed()\n",
    "df_dvf = load_dvf()\n",
    "print('Size : ', df.shape)\n",
    "\n",
    "# Separating data\n",
    "df_old, df_new = separate_old_new(df, last_analyse)\n",
    "\n",
    "# Prepare df for alerts\n",
    "ville_inter = compute_villes_in_dfs(df_old, df_new)\n",
    "df_new = compute_mean_d1(df_old, df_new, ville_inter)\n",
    "\n",
    "# Compute alert\n",
    "message = create_alert_d1(df_new)"
   ]
  },
  {
   "cell_type": "markdown",
   "metadata": {},
   "source": [
    "# 3. Saving"
   ]
  },
  {
   "cell_type": "code",
   "execution_count": 147,
   "metadata": {},
   "outputs": [],
   "source": [
    "def save_alert(message, channel=\"test_channel\"):\n",
    "    alert = {\"channel\":channel,\n",
    "            \"message\":message,\n",
    "            \"emoji\":\":female-firefighter:\"}\n",
    "    \n",
    "    folder = 'data/alert_files/'\n",
    "    now = f.get_now()\n",
    "    path = '{}/alert_{}.json'.format(folder, now)\n",
    "    with open(path, 'w') as outfile:  \n",
    "        json.dump(alert, outfile)\n"
   ]
  },
  {
   "cell_type": "code",
   "execution_count": null,
   "metadata": {},
   "outputs": [],
   "source": [
    "save_alert(message)"
   ]
  },
  {
   "cell_type": "code",
   "execution_count": 138,
   "metadata": {},
   "outputs": [],
   "source": []
  },
  {
   "cell_type": "code",
   "execution_count": null,
   "metadata": {},
   "outputs": [],
   "source": []
  }
 ],
 "metadata": {
  "kernelspec": {
   "display_name": "Python 3",
   "language": "python",
   "name": "python3"
  },
  "language_info": {
   "codemirror_mode": {
    "name": "ipython",
    "version": 3
   },
   "file_extension": ".py",
   "mimetype": "text/x-python",
   "name": "python",
   "nbconvert_exporter": "python",
   "pygments_lexer": "ipython3",
   "version": "3.7.3"
  }
 },
 "nbformat": 4,
 "nbformat_minor": 4
}
