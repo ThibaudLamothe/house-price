{
 "cells": [
  {
   "cell_type": "markdown",
   "metadata": {},
   "source": [
    "# 0. General"
   ]
  },
  {
   "cell_type": "code",
   "execution_count": 1,
   "metadata": {},
   "outputs": [],
   "source": [
    "import os\n",
    "import json\n",
    "import datetime\n",
    "import pandas as pd\n",
    "from utils import functions as f"
   ]
  },
  {
   "cell_type": "code",
   "execution_count": 2,
   "metadata": {},
   "outputs": [
    {
     "name": "stdout",
     "output_type": "stream",
     "text": [
      "2019-05-30_18-46-44\n"
     ]
    }
   ],
   "source": [
    "now = f.get_now()\n",
    "print(now)"
   ]
  },
  {
   "cell_type": "markdown",
   "metadata": {},
   "source": [
    "# 1. Scraping"
   ]
  },
  {
   "cell_type": "code",
   "execution_count": 3,
   "metadata": {},
   "outputs": [],
   "source": [
    "from shutil import copyfile"
   ]
  },
  {
   "cell_type": "code",
   "execution_count": 4,
   "metadata": {},
   "outputs": [],
   "source": [
    "def run_spider(link, spider_name, file_name):\n",
    "    \n",
    "    # Prepare command to execute spider\n",
    "    cmd1 = 'cd \"{}\"'.format(link)\n",
    "    cmd2 = 'scrapy crawl {} -o {}'.format(spider_name, file_name)\n",
    "    \n",
    "    # Run spider\n",
    "    rep = os.system(\"{} && {}\".format(cmd1, cmd2))\n",
    "    \n",
    "    # Display result\n",
    "    if rep==0:\n",
    "        print(\"Spider {} successfully run\".format(spider_name))\n",
    "    else:\n",
    "        print(\"Couldn't run spider {}\".format(spider_name))"
   ]
  },
  {
   "cell_type": "code",
   "execution_count": 5,
   "metadata": {},
   "outputs": [],
   "source": [
    "def get_immo_data(source, source_link, dest_folder='data/raw_data', now=f.get_now()):\n",
    "    \n",
    "    # Compute source path\n",
    "    path_source = '{}/{}_immo.jl'.format(source_link, source)\n",
    "    \n",
    "    # Save data for history\n",
    "    path_dest_history = '{}/{}_{}.jl'.format(dest_folder, source, now)\n",
    "    copyfile(path_source, path_dest_history)\n",
    "    \n",
    "    # Save tmp data for processing pipeline\n",
    "    path_dest_pipeline = '{}/raw_{}.jl'.format(dest_folder, source)\n",
    "    copyfile(path_source, path_dest_pipeline)\n",
    "    \n",
    "    print('> Files {} saved.'.format(source))\n",
    "    "
   ]
  },
  {
   "cell_type": "code",
   "execution_count": 6,
   "metadata": {},
   "outputs": [
    {
     "name": "stdout",
     "output_type": "stream",
     "text": [
      "Spider spiderLBC successfully run\n"
     ]
    },
    {
     "name": "stdout",
     "output_type": "stream",
     "text": [
      "Spider spiderPV successfully run\n"
     ]
    },
    {
     "name": "stdout",
     "output_type": "stream",
     "text": [
      "Spider spiderSL successfully run\n",
      "> Files lbc saved.\n",
      "> Files pv saved.\n",
      "> Files sl saved.\n"
     ]
    }
   ],
   "source": [
    "lbc_link = '/Users/thibaudlamothe/OneDrive - Capgemini/Documents/Python_scripts/05_Scraping/LBC/LBC'\n",
    "sl_link = '/Users/thibaudlamothe/OneDrive - Capgemini/Documents/Python_scripts/05_Scraping/SL/SL/'\n",
    "pv_link = '/Users/thibaudlamothe/OneDrive - Capgemini/Documents/Python_scripts/05_Scraping/ParuVendu/ParuVendu/'\n",
    "\n",
    "scrapping=True\n",
    "if scrapping:\n",
    "    run_spider(lbc_link, 'spiderLBC', 'lbc_immo.jl')\n",
    "    run_spider(pv_link, 'spiderPV', 'pv_immo.jl')\n",
    "    run_spider(sl_link, 'spiderSL', 'sl_immo.jl')\n",
    "    \n",
    "get_immo_data('lbc', lbc_link)\n",
    "get_immo_data('pv', pv_link)\n",
    "get_immo_data('sl', sl_link)\n",
    "\n",
    "lbc_file = 'data/raw_data/raw_{}.jl'.format('lbc')\n",
    "pv_file = 'data/raw_data/raw_{}.jl'.format('pv')\n",
    "sl_file = 'data/raw_data/raw_{}.jl'.format('sl')"
   ]
  },
  {
   "cell_type": "markdown",
   "metadata": {},
   "source": [
    "# 2. Selecting"
   ]
  },
  {
   "cell_type": "code",
   "execution_count": 7,
   "metadata": {},
   "outputs": [],
   "source": [
    "def filter_ids(df, col_name, list_id):\n",
    "    return df.loc[df[col_name].isin(list_id)]"
   ]
  },
  {
   "cell_type": "code",
   "execution_count": 8,
   "metadata": {},
   "outputs": [],
   "source": [
    "df_lbc = f.read_jl_file(lbc_file)\n",
    "df_pv = f.read_jl_file(pv_file)\n",
    "df_sl = f.read_jl_file(sl_file)\n",
    "\n",
    "new_lbc_ids = df_lbc['id_'].values\n",
    "new_pv_ids = df_pv['annonce'].values\n",
    "new_sl_ids = df_sl['annonce'].values"
   ]
  },
  {
   "cell_type": "code",
   "execution_count": 9,
   "metadata": {},
   "outputs": [
    {
     "name": "stdout",
     "output_type": "stream",
     "text": [
      "> Selection ok.\n"
     ]
    }
   ],
   "source": [
    "processed_path = 'data/processed_data/processed_data.csv'\n",
    "is_processed = os.path.isfile(processed_path)\n",
    "\n",
    "if is_processed:\n",
    "    print('> is_processed')\n",
    "    # Get old ids\n",
    "    lbc_ids = get_lbc_ids() # functions to write\n",
    "    pv_ids = get_pv_ids()\n",
    "    sl_ids = get_sl_ids()\n",
    "    \n",
    "    # Modify data to save\n",
    "    df_lbc = df_lbc.pipe(filter_ids, 'id_', [id_ for id_ in new_lbc_ids if id_ not in lbc_ids])\n",
    "    df_pv = df_pv.pipe(filter_ids, 'annonce', [id_ for id_ in new_pv_ids if id_ not in pv_ids])\n",
    "    df_sl = df_sl.pipe(filter_ids, 'annonce', [id_ for id_ in new_sl_ids if id_ not in sl_ids])\n",
    "print('> Selection ok.')"
   ]
  },
  {
   "cell_type": "markdown",
   "metadata": {},
   "source": [
    "# 3. Saving"
   ]
  },
  {
   "cell_type": "code",
   "execution_count": 10,
   "metadata": {},
   "outputs": [
    {
     "name": "stdout",
     "output_type": "stream",
     "text": [
      "> New data saved.\n"
     ]
    }
   ],
   "source": [
    "tmp_folder = 'data/new_tmp_data'\n",
    "df_lbc.to_csv('{}/new_lbc.csv'.format(tmp_folder), header=True, index=False)\n",
    "df_sl.to_csv('{}/new_sl.csv'.format(tmp_folder), header=True, index=False)\n",
    "df_pv.to_csv('{}/new_pv.csv'.format(tmp_folder), header=True, index=False)\n",
    "print('> New data saved.')"
   ]
  },
  {
   "cell_type": "code",
   "execution_count": null,
   "metadata": {},
   "outputs": [],
   "source": []
  }
 ],
 "metadata": {
  "kernelspec": {
   "display_name": "Python 3",
   "language": "python",
   "name": "python3"
  },
  "language_info": {
   "codemirror_mode": {
    "name": "ipython",
    "version": 3
   },
   "file_extension": ".py",
   "mimetype": "text/x-python",
   "name": "python",
   "nbconvert_exporter": "python",
   "pygments_lexer": "ipython3",
   "version": "3.6.8"
  }
 },
 "nbformat": 4,
 "nbformat_minor": 2
}
