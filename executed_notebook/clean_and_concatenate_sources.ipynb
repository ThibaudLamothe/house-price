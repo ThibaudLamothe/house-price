{
 "cells": [
  {
   "cell_type": "markdown",
   "metadata": {},
   "source": [
    "# Making necessary imports"
   ]
  },
  {
   "cell_type": "code",
   "execution_count": 1,
   "metadata": {},
   "outputs": [],
   "source": [
    "import json\n",
    "import pandas as pd\n",
    "import numpy as np\n",
    "from utils import functions as f"
   ]
  },
  {
   "cell_type": "markdown",
   "metadata": {},
   "source": [
    "# Loading & Cleaning functions"
   ]
  },
  {
   "cell_type": "code",
   "execution_count": 2,
   "metadata": {},
   "outputs": [],
   "source": [
    "def transform_to_numeric(df, col):\n",
    "    df[col] = pd.to_numeric(df[col], errors='coerce')\n",
    "    return df\n",
    "\n",
    "\n",
    "def transform_prix(df):\n",
    "    df['prix'] = df['prix'].apply(lambda x: x.split(' ')[0])\n",
    "    df['prix'] = pd.to_numeric(df['prix'], errors='coerce') *1000\n",
    "    return df\n",
    "\n",
    "\n",
    "def calculate_m2(df):\n",
    "    df['prix_m2'] = df['prix'].div(df['surface']).apply(np.round,2)\n",
    "    return df\n",
    "\n",
    "\n",
    "def fullfill_cp(df):\n",
    "    def fullfilling(line):\n",
    "        corresp = {'Rennes':35000,\n",
    "                   'Talence':33400,\n",
    "                   'Reims':51100}\n",
    "        if pd.isnull(line['code_postal']):\n",
    "            if line['ville'] in corresp.keys():\n",
    "                return corresp[line['ville']]\n",
    "            return None\n",
    "        return line['code_postal']\n",
    "    \n",
    "    df['code_postal'] = df.apply(fullfilling, axis=1)\n",
    "    return df\n",
    "\n",
    "\n",
    "def get_dept(df):\n",
    "    #df['dept'] = df['code_postal'].apply(lambda x:x[:-3])  #if string\n",
    "    #df['dept'] = pd.to_numeric(df['dept'], errors='coerce') # if string\n",
    "    #df['dept'] = df['code_postal'].div(1000).apply(np.int) # if numeric but not work for nan\n",
    "    df['dept'] = df['code_postal'].apply(lambda x: np.int(x/1000) if pd.isnull(x)==False else np.NaN) # if numeric but not work for nan\n",
    "    return df\n",
    "\n",
    "\n",
    "def transform_string_col_into_dict(df, col='critere'):\n",
    "    df[col] = df[col].apply(lambda x: json.loads(x.replace('\\'','\"')))\n",
    "    return df\n",
    "    \n",
    "\n",
    "def concat_criteres(df):\n",
    "    list_id = []\n",
    "    list_k = []\n",
    "    list_v = []\n",
    "    for i in df[['id_', 'critere']].values:\n",
    "        for k, v in i[1].items():\n",
    "            list_id.append(i[0])\n",
    "            list_k.append(k)\n",
    "            list_v.append(v)\n",
    "    df_crit = pd.DataFrame({'id_':list_id, 'critere_name':list_k, 'critere_value':list_v})\n",
    "    df_criteres = pd.pivot(df_crit.drop_duplicates(), index='id_', columns='critere_name', values='critere_value')\n",
    "    df_merge = pd.merge(df, df_criteres, on='id_', how='left')\n",
    "    return df_merge\n",
    "\n",
    "\n",
    "def transform_surface(df):\n",
    "    df['surface'] = df['Surface'].apply(lambda x: str(x).split(' ')[0]) \n",
    "    df['surface'] = pd.to_numeric(df['surface'], errors='coerce')\n",
    "    df = df.drop('Surface', axis=1)\n",
    "    return df\n",
    "\n",
    "\n",
    "def parse_date(df, drop_=True, sep_date_heure=' ', name_col_date ='date_absolue'):\n",
    "    date_=df[name_col_date].apply(lambda x: x.split(sep_date_heure)[0])\n",
    "    heure_=df[name_col_date].apply(lambda x: x.split(sep_date_heure)[-1])\n",
    "    #heure_ = heure_.apply(lambda x : x.replace('h',':'))\n",
    "    \n",
    "    df['date_annonce'] = pd.to_datetime(date_, errors='coerce')\n",
    "    df['heure_annonce'] = heure_ #pd.to_time(heure_, errors='coerce')\n",
    "    \n",
    "    if drop_:\n",
    "        df = df.drop(name_col_date, axis=1)\n",
    "    return df\n",
    "\n",
    "\n",
    "def separate_ville_cp(df):\n",
    "    df['ville'] = df['lieu'].apply(lambda x:x.split(' ')[0])\n",
    "    df['code_postal'] = df['lieu'].apply(lambda x:x.split(' ')[1])\n",
    "    df.drop('lieu', axis=1)\n",
    "    return df\n",
    "\n",
    "\n",
    "def round_(df, col, rd=2):\n",
    "    df[col] = np.round(df[col], rd)\n",
    "    return df\n",
    "\n",
    "\n",
    "def transform_sl_prix(df):\n",
    "    df['prix'] = df['prix'].apply(lambda x : int(str(x)[:-4])*1000)\n",
    "    return df\n",
    "\n",
    "\n",
    "def transform_sl_surface(df):\n",
    "    df['surface'] = df['surface'].apply(lambda x:int(x.split(',')[0]) if pd.isnull(x) ==False else np.NaN)\n",
    "    return df\n",
    "\n",
    "\n",
    "def select_columns(df, col_list):\n",
    "    df_select = df[col_list]\n",
    "    return df_select\n",
    "\n",
    "\n",
    "\n",
    "def rename_column(df, col1, col2):\n",
    "    df = df.rename(columns={col1:col2})\n",
    "    return df"
   ]
  },
  {
   "cell_type": "markdown",
   "metadata": {},
   "source": [
    "# Loading"
   ]
  },
  {
   "cell_type": "code",
   "execution_count": 3,
   "metadata": {},
   "outputs": [],
   "source": [
    "FOLDER = 'data/new_tmp_data'\n",
    "lbc_file = '{}/new_lbc.csv'.format(FOLDER)\n",
    "pv_file = '{}/new_pv.csv'.format(FOLDER)\n",
    "sl_file = '{}/new_sl.csv'.format(FOLDER)"
   ]
  },
  {
   "cell_type": "markdown",
   "metadata": {},
   "source": [
    "## A. LBC Data"
   ]
  },
  {
   "cell_type": "code",
   "execution_count": 4,
   "metadata": {},
   "outputs": [],
   "source": [
    "df_lbc_annonce = (pd.read_csv(lbc_file)\n",
    "                  .pipe(transform_string_col_into_dict, 'critere')\n",
    "                  .pipe(concat_criteres)\n",
    "                  .pipe(transform_prix)\n",
    "                  .pipe(transform_surface)\n",
    "                  .pipe(calculate_m2)\n",
    "                  .pipe(round_, col='prix_m2')\n",
    "                  .pipe(get_dept)\n",
    "                  .pipe(parse_date)\n",
    "                  .drop('critere', axis=1)\n",
    "                  .assign(origine='lbc')\n",
    "                 )\n",
    "\n",
    "lbc_small = df_lbc_annonce.pipe(select_columns, ['prix', 'surface', 'prix_m2', 'ville', 'code_postal', 'origine', 'dept', 'id_'])\n",
    "#lbc_small.head()\n",
    "#lbc_small.isnull().sum()"
   ]
  },
  {
   "cell_type": "markdown",
   "metadata": {},
   "source": [
    "## B. ParuVendu Data"
   ]
  },
  {
   "cell_type": "code",
   "execution_count": 5,
   "metadata": {},
   "outputs": [],
   "source": [
    "df_pv = (pd.read_csv(pv_file)\n",
    "          .pipe(transform_prix)\n",
    "          .pipe(transform_to_numeric, col='nb_pict')\n",
    "          .pipe(transform_to_numeric, col='surface')\n",
    "          .pipe(calculate_m2)\n",
    "          .pipe(get_dept)\n",
    "          .pipe(rename_column, 'annonce', 'id_')\n",
    "          .assign(origine='pv')\n",
    "        )\n",
    "pv_small = df_pv.pipe(select_columns, ['prix', 'surface', 'prix_m2', 'ville', 'code_postal', 'origine', 'dept','id_'])\n",
    "#pv_small.head()"
   ]
  },
  {
   "cell_type": "markdown",
   "metadata": {},
   "source": [
    "## C. SeLoger Data"
   ]
  },
  {
   "cell_type": "code",
   "execution_count": 6,
   "metadata": {},
   "outputs": [],
   "source": [
    "df_sl = (pd.read_csv(sl_file)\n",
    "          .pipe(transform_sl_prix)\n",
    "          .pipe(transform_sl_surface)\n",
    "          .pipe(calculate_m2)\n",
    "          .pipe(fullfill_cp)\n",
    "          .pipe(get_dept)\n",
    "          .pipe(rename_column, 'annonce', 'id_')\n",
    "          .assign(origine='sl')\n",
    "        )\n",
    "sl_small = df_sl.pipe(select_columns, ['prix', 'surface', 'prix_m2', 'ville', 'code_postal', 'origine', 'dept', 'id_'])\n",
    "#sl_small.head()"
   ]
  },
  {
   "cell_type": "markdown",
   "metadata": {},
   "source": [
    "# Aggregating & Processing"
   ]
  },
  {
   "cell_type": "code",
   "execution_count": 7,
   "metadata": {},
   "outputs": [
    {
     "data": {
      "text/html": [
       "<div>\n",
       "<style scoped>\n",
       "    .dataframe tbody tr th:only-of-type {\n",
       "        vertical-align: middle;\n",
       "    }\n",
       "\n",
       "    .dataframe tbody tr th {\n",
       "        vertical-align: top;\n",
       "    }\n",
       "\n",
       "    .dataframe thead th {\n",
       "        text-align: right;\n",
       "    }\n",
       "</style>\n",
       "<table border=\"1\" class=\"dataframe\">\n",
       "  <thead>\n",
       "    <tr style=\"text-align: right;\">\n",
       "      <th></th>\n",
       "      <th>prix</th>\n",
       "      <th>surface</th>\n",
       "      <th>prix_m2</th>\n",
       "      <th>ville</th>\n",
       "      <th>code_postal</th>\n",
       "      <th>origine</th>\n",
       "      <th>dept</th>\n",
       "      <th>id_</th>\n",
       "    </tr>\n",
       "  </thead>\n",
       "  <tbody>\n",
       "    <tr>\n",
       "      <th>0</th>\n",
       "      <td>64000</td>\n",
       "      <td>15.0</td>\n",
       "      <td>4267.0</td>\n",
       "      <td>Rennes</td>\n",
       "      <td>35000.0</td>\n",
       "      <td>sl</td>\n",
       "      <td>35.0</td>\n",
       "      <td>144750643</td>\n",
       "    </tr>\n",
       "    <tr>\n",
       "      <th>1</th>\n",
       "      <td>64000</td>\n",
       "      <td>15.0</td>\n",
       "      <td>4267.0</td>\n",
       "      <td>Rennes</td>\n",
       "      <td>35000.0</td>\n",
       "      <td>sl</td>\n",
       "      <td>35.0</td>\n",
       "      <td>145092579</td>\n",
       "    </tr>\n",
       "    <tr>\n",
       "      <th>2</th>\n",
       "      <td>64000</td>\n",
       "      <td>15.0</td>\n",
       "      <td>4267.0</td>\n",
       "      <td>Rennes</td>\n",
       "      <td>35000.0</td>\n",
       "      <td>sl</td>\n",
       "      <td>35.0</td>\n",
       "      <td>145251425</td>\n",
       "    </tr>\n",
       "    <tr>\n",
       "      <th>4</th>\n",
       "      <td>142000</td>\n",
       "      <td>41.0</td>\n",
       "      <td>3463.0</td>\n",
       "      <td>Reims</td>\n",
       "      <td>51100.0</td>\n",
       "      <td>sl</td>\n",
       "      <td>51.0</td>\n",
       "      <td>143957953</td>\n",
       "    </tr>\n",
       "    <tr>\n",
       "      <th>5</th>\n",
       "      <td>75000</td>\n",
       "      <td>21.0</td>\n",
       "      <td>3571.0</td>\n",
       "      <td>Nantes</td>\n",
       "      <td>44000.0</td>\n",
       "      <td>sl</td>\n",
       "      <td>44.0</td>\n",
       "      <td>136150909</td>\n",
       "    </tr>\n",
       "  </tbody>\n",
       "</table>\n",
       "</div>"
      ],
      "text/plain": [
       "     prix  surface  prix_m2   ville  code_postal origine  dept        id_\n",
       "0   64000     15.0   4267.0  Rennes      35000.0      sl  35.0  144750643\n",
       "1   64000     15.0   4267.0  Rennes      35000.0      sl  35.0  145092579\n",
       "2   64000     15.0   4267.0  Rennes      35000.0      sl  35.0  145251425\n",
       "4  142000     41.0   3463.0   Reims      51100.0      sl  51.0  143957953\n",
       "5   75000     21.0   3571.0  Nantes      44000.0      sl  44.0  136150909"
      ]
     },
     "execution_count": 7,
     "metadata": {},
     "output_type": "execute_result"
    }
   ],
   "source": [
    "df_agg = (pd.concat([sl_small, pv_small, lbc_small])\n",
    "          .dropna())\n",
    "df_agg.head()"
   ]
  },
  {
   "cell_type": "markdown",
   "metadata": {},
   "source": [
    "# Exportation"
   ]
  },
  {
   "cell_type": "code",
   "execution_count": 8,
   "metadata": {},
   "outputs": [],
   "source": [
    "FOLDER = 'data/new_tmp_data'\n",
    "TITLE = 'new_clean_data.csv'\n",
    "path = '{}/{}'.format(FOLDER, TITLE)\n",
    "df_agg.to_csv(path, header=True, index=False)"
   ]
  },
  {
   "cell_type": "code",
   "execution_count": 9,
   "metadata": {},
   "outputs": [],
   "source": [
    "#test = pd.read_csv(path)\n",
    "#test.head()"
   ]
  },
  {
   "cell_type": "code",
   "execution_count": null,
   "metadata": {},
   "outputs": [],
   "source": []
  }
 ],
 "metadata": {
  "kernelspec": {
   "display_name": "Python 3",
   "language": "python",
   "name": "python3"
  },
  "language_info": {
   "codemirror_mode": {
    "name": "ipython",
    "version": 3
   },
   "file_extension": ".py",
   "mimetype": "text/x-python",
   "name": "python",
   "nbconvert_exporter": "python",
   "pygments_lexer": "ipython3",
   "version": "3.6.8"
  }
 },
 "nbformat": 4,
 "nbformat_minor": 2
}
