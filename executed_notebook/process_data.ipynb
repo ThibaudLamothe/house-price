{
 "cells": [
  {
   "cell_type": "code",
   "execution_count": 1,
   "metadata": {},
   "outputs": [],
   "source": [
    "import pandas as pd"
   ]
  },
  {
   "cell_type": "markdown",
   "metadata": {},
   "source": [
    "# 1. Loading"
   ]
  },
  {
   "cell_type": "code",
   "execution_count": 2,
   "metadata": {},
   "outputs": [
    {
     "data": {
      "text/html": [
       "<div>\n",
       "<style scoped>\n",
       "    .dataframe tbody tr th:only-of-type {\n",
       "        vertical-align: middle;\n",
       "    }\n",
       "\n",
       "    .dataframe tbody tr th {\n",
       "        vertical-align: top;\n",
       "    }\n",
       "\n",
       "    .dataframe thead th {\n",
       "        text-align: right;\n",
       "    }\n",
       "</style>\n",
       "<table border=\"1\" class=\"dataframe\">\n",
       "  <thead>\n",
       "    <tr style=\"text-align: right;\">\n",
       "      <th></th>\n",
       "      <th>prix</th>\n",
       "      <th>surface</th>\n",
       "      <th>prix_m2</th>\n",
       "      <th>ville</th>\n",
       "      <th>code_postal</th>\n",
       "      <th>origine</th>\n",
       "      <th>dept</th>\n",
       "      <th>id_</th>\n",
       "    </tr>\n",
       "  </thead>\n",
       "  <tbody>\n",
       "    <tr>\n",
       "      <th>0</th>\n",
       "      <td>64000</td>\n",
       "      <td>15.0</td>\n",
       "      <td>4267.0</td>\n",
       "      <td>Rennes</td>\n",
       "      <td>35000.0</td>\n",
       "      <td>sl</td>\n",
       "      <td>35.0</td>\n",
       "      <td>144750643</td>\n",
       "    </tr>\n",
       "    <tr>\n",
       "      <th>1</th>\n",
       "      <td>64000</td>\n",
       "      <td>15.0</td>\n",
       "      <td>4267.0</td>\n",
       "      <td>Rennes</td>\n",
       "      <td>35000.0</td>\n",
       "      <td>sl</td>\n",
       "      <td>35.0</td>\n",
       "      <td>145092579</td>\n",
       "    </tr>\n",
       "    <tr>\n",
       "      <th>2</th>\n",
       "      <td>64000</td>\n",
       "      <td>15.0</td>\n",
       "      <td>4267.0</td>\n",
       "      <td>Rennes</td>\n",
       "      <td>35000.0</td>\n",
       "      <td>sl</td>\n",
       "      <td>35.0</td>\n",
       "      <td>145251425</td>\n",
       "    </tr>\n",
       "    <tr>\n",
       "      <th>3</th>\n",
       "      <td>142000</td>\n",
       "      <td>41.0</td>\n",
       "      <td>3463.0</td>\n",
       "      <td>Reims</td>\n",
       "      <td>51100.0</td>\n",
       "      <td>sl</td>\n",
       "      <td>51.0</td>\n",
       "      <td>143957953</td>\n",
       "    </tr>\n",
       "    <tr>\n",
       "      <th>4</th>\n",
       "      <td>75000</td>\n",
       "      <td>21.0</td>\n",
       "      <td>3571.0</td>\n",
       "      <td>Nantes</td>\n",
       "      <td>44000.0</td>\n",
       "      <td>sl</td>\n",
       "      <td>44.0</td>\n",
       "      <td>136150909</td>\n",
       "    </tr>\n",
       "  </tbody>\n",
       "</table>\n",
       "</div>"
      ],
      "text/plain": [
       "     prix  surface  prix_m2   ville  code_postal origine  dept        id_\n",
       "0   64000     15.0   4267.0  Rennes      35000.0      sl  35.0  144750643\n",
       "1   64000     15.0   4267.0  Rennes      35000.0      sl  35.0  145092579\n",
       "2   64000     15.0   4267.0  Rennes      35000.0      sl  35.0  145251425\n",
       "3  142000     41.0   3463.0   Reims      51100.0      sl  51.0  143957953\n",
       "4   75000     21.0   3571.0  Nantes      44000.0      sl  44.0  136150909"
      ]
     },
     "execution_count": 2,
     "metadata": {},
     "output_type": "execute_result"
    }
   ],
   "source": [
    "FOLDER = 'data/new_tmp_data'\n",
    "TITLE = 'new_clean_data.csv'\n",
    "path = '{}/{}'.format(FOLDER, TITLE)\n",
    "df = pd.read_csv(path)\n",
    "df.head()"
   ]
  },
  {
   "cell_type": "markdown",
   "metadata": {},
   "source": [
    "# 2. Processing"
   ]
  },
  {
   "cell_type": "code",
   "execution_count": 3,
   "metadata": {},
   "outputs": [],
   "source": [
    "if False:\n",
    "    # Dealing with Paris\n",
    "    df['ville'] = df[['ville', 'code_postal']].apply(paris_decompo, axis=1)"
   ]
  },
  {
   "cell_type": "code",
   "execution_count": 4,
   "metadata": {},
   "outputs": [],
   "source": [
    "if False:\n",
    "    # Dealing with viager\n",
    "    df['viager'] = df['contenu'].apply(lambda x: True if 'viager' in x else False)\n",
    "    df_viager = df[df['viager']]\n",
    "    df_viager_new = df_viager[df_viager.index>last_analyse]\n",
    "    print('Nombre d\\'appartement en viager au total', df_viager.shape[0])\n",
    "    print('Nombre d\\'appartement en viager nouveau', df_viager_new.shape[0])"
   ]
  },
  {
   "cell_type": "markdown",
   "metadata": {},
   "source": [
    "# 3. Saving"
   ]
  },
  {
   "cell_type": "code",
   "execution_count": 5,
   "metadata": {},
   "outputs": [],
   "source": [
    "FOLDER = 'data/new_tmp_data'\n",
    "TITLE = 'new_process_data.csv'\n",
    "path = '{}/{}'.format(FOLDER, TITLE)\n",
    "df.to_csv(path, header=True, index=False)"
   ]
  },
  {
   "cell_type": "code",
   "execution_count": null,
   "metadata": {},
   "outputs": [],
   "source": []
  },
  {
   "cell_type": "code",
   "execution_count": null,
   "metadata": {},
   "outputs": [],
   "source": []
  }
 ],
 "metadata": {
  "kernelspec": {
   "display_name": "Python 3",
   "language": "python",
   "name": "python3"
  },
  "language_info": {
   "codemirror_mode": {
    "name": "ipython",
    "version": 3
   },
   "file_extension": ".py",
   "mimetype": "text/x-python",
   "name": "python",
   "nbconvert_exporter": "python",
   "pygments_lexer": "ipython3",
   "version": "3.6.8"
  }
 },
 "nbformat": 4,
 "nbformat_minor": 2
}
