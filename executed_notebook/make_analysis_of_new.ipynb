{
 "cells": [
  {
   "cell_type": "code",
   "execution_count": 1,
   "metadata": {},
   "outputs": [],
   "source": [
    "import os\n",
    "import json\n",
    "import numpy as np\n",
    "import pandas as pd\n",
    "import matplotlib.pyplot as plt\n",
    "from utils import functions as f"
   ]
  },
  {
   "cell_type": "markdown",
   "metadata": {},
   "source": [
    "# 1. Loading"
   ]
  },
  {
   "cell_type": "code",
   "execution_count": 2,
   "metadata": {},
   "outputs": [
    {
     "name": "stdout",
     "output_type": "stream",
     "text": [
      "Last analyse realised at 2019-05-30 18:41:58\n"
     ]
    }
   ],
   "source": [
    "# Loading information of when last analyse was realized\n",
    "last_analyse = f.load_ts_analyse()\n",
    "#last_analyse = pd.Timestamp('20190425')\n",
    "print('Last analyse realised at {}'.format(last_analyse))"
   ]
  },
  {
   "cell_type": "code",
   "execution_count": 3,
   "metadata": {},
   "outputs": [],
   "source": [
    "def load_new():\n",
    "    path = 'data/new_tmp_data/new_process_data.csv'\n",
    "    if os.path.isfile(path):\n",
    "        return pd.read_csv(path)\n",
    "    print('No new processed data at : \\n{}'.format(path))\n",
    "    return pd.DataFrame()\n",
    "\n",
    "def load_old():\n",
    "    path = 'data/processed_data/process_data.csv'\n",
    "    if os.path.isfile(path):\n",
    "        return pd.read_csv(path)\n",
    "    print('No old processed data at : \\n{}'.format(path))\n",
    "    return pd.DataFrame()\n",
    "\n",
    "def load_dvf():\n",
    "    return None"
   ]
  },
  {
   "cell_type": "code",
   "execution_count": 4,
   "metadata": {},
   "outputs": [
    {
     "name": "stdout",
     "output_type": "stream",
     "text": [
      "No old processed data at : \n",
      "data/processed_data/process_data.csv\n",
      "NEW :  (3131, 8)\n",
      "OLD :  (0, 0)\n"
     ]
    }
   ],
   "source": [
    "df_new = load_new()\n",
    "df_old = load_old()\n",
    "df_dvf = load_dvf()\n",
    "print('NEW : ', df_new.shape)\n",
    "print('OLD : ', df_old.shape)"
   ]
  },
  {
   "cell_type": "markdown",
   "metadata": {},
   "source": [
    "# Little exploration"
   ]
  },
  {
   "cell_type": "code",
   "execution_count": 5,
   "metadata": {},
   "outputs": [
    {
     "data": {
      "text/html": [
       "<div>\n",
       "<style scoped>\n",
       "    .dataframe tbody tr th:only-of-type {\n",
       "        vertical-align: middle;\n",
       "    }\n",
       "\n",
       "    .dataframe tbody tr th {\n",
       "        vertical-align: top;\n",
       "    }\n",
       "\n",
       "    .dataframe thead th {\n",
       "        text-align: right;\n",
       "    }\n",
       "</style>\n",
       "<table border=\"1\" class=\"dataframe\">\n",
       "  <thead>\n",
       "    <tr style=\"text-align: right;\">\n",
       "      <th></th>\n",
       "      <th>prix</th>\n",
       "      <th>surface</th>\n",
       "      <th>prix_m2</th>\n",
       "      <th>ville</th>\n",
       "      <th>code_postal</th>\n",
       "      <th>origine</th>\n",
       "      <th>dept</th>\n",
       "      <th>id_</th>\n",
       "    </tr>\n",
       "  </thead>\n",
       "  <tbody>\n",
       "    <tr>\n",
       "      <th>86</th>\n",
       "      <td>51000</td>\n",
       "      <td>18.0</td>\n",
       "      <td>2833.0</td>\n",
       "      <td>Reims</td>\n",
       "      <td>51100.0</td>\n",
       "      <td>sl</td>\n",
       "      <td>51.0</td>\n",
       "      <td>136930533</td>\n",
       "    </tr>\n",
       "    <tr>\n",
       "      <th>1019</th>\n",
       "      <td>51000</td>\n",
       "      <td>18.0</td>\n",
       "      <td>2833.0</td>\n",
       "      <td>Reims</td>\n",
       "      <td>51100.0</td>\n",
       "      <td>sl</td>\n",
       "      <td>51.0</td>\n",
       "      <td>136930533</td>\n",
       "    </tr>\n",
       "    <tr>\n",
       "      <th>1328</th>\n",
       "      <td>51000</td>\n",
       "      <td>18.0</td>\n",
       "      <td>2833.0</td>\n",
       "      <td>Reims</td>\n",
       "      <td>51100.0</td>\n",
       "      <td>sl</td>\n",
       "      <td>51.0</td>\n",
       "      <td>136930533</td>\n",
       "    </tr>\n",
       "    <tr>\n",
       "      <th>660</th>\n",
       "      <td>52000</td>\n",
       "      <td>22.0</td>\n",
       "      <td>2364.0</td>\n",
       "      <td>Reims</td>\n",
       "      <td>51100.0</td>\n",
       "      <td>sl</td>\n",
       "      <td>51.0</td>\n",
       "      <td>139772311</td>\n",
       "    </tr>\n",
       "    <tr>\n",
       "      <th>2038</th>\n",
       "      <td>52000</td>\n",
       "      <td>18.0</td>\n",
       "      <td>2889.0</td>\n",
       "      <td>Reims</td>\n",
       "      <td>51100.0</td>\n",
       "      <td>sl</td>\n",
       "      <td>51.0</td>\n",
       "      <td>139772313</td>\n",
       "    </tr>\n",
       "  </tbody>\n",
       "</table>\n",
       "</div>"
      ],
      "text/plain": [
       "       prix  surface  prix_m2  ville  code_postal origine  dept        id_\n",
       "86    51000     18.0   2833.0  Reims      51100.0      sl  51.0  136930533\n",
       "1019  51000     18.0   2833.0  Reims      51100.0      sl  51.0  136930533\n",
       "1328  51000     18.0   2833.0  Reims      51100.0      sl  51.0  136930533\n",
       "660   52000     22.0   2364.0  Reims      51100.0      sl  51.0  139772311\n",
       "2038  52000     18.0   2889.0  Reims      51100.0      sl  51.0  139772313"
      ]
     },
     "execution_count": 5,
     "metadata": {},
     "output_type": "execute_result"
    }
   ],
   "source": [
    "df_new[df_new[['prix', 'surface', 'code_postal']].duplicated(keep=False)].sort_values('prix').head()"
   ]
  },
  {
   "cell_type": "markdown",
   "metadata": {},
   "source": [
    "# 2. Analysis"
   ]
  },
  {
   "cell_type": "code",
   "execution_count": 6,
   "metadata": {},
   "outputs": [
    {
     "name": "stdout",
     "output_type": "stream",
     "text": [
      "1565\n"
     ]
    }
   ],
   "source": [
    "half = np.int(df_new.shape[0]/2)\n",
    "print(half)\n",
    "df_old = df_new.iloc[:half]\n",
    "df_new = df_new.iloc[half:]"
   ]
  },
  {
   "cell_type": "code",
   "execution_count": 7,
   "metadata": {},
   "outputs": [],
   "source": [
    "# Deletint viager data for further analyse\n",
    "#df = df[df['viager']==False]\n",
    "#del(df['viager'])\n",
    "\n",
    "# Looking at cities in both dataFrame and their intersection\n",
    "ville_in_new = df_new['ville'].unique().tolist()\n",
    "ville_in_old = df_old['ville'].unique().tolist()\n",
    "ville_new = [ville for ville in ville_in_new if ville not in ville_in_old]\n",
    "ville_inter = [ville for ville in ville_in_new if ville in ville_in_old]\n",
    "ville_in_new.sort() ; ville_in_old.sort() ; ville_new.sort() ; ville_inter.sort()\n",
    "if False:\n",
    "    print('Ville in new : {}'.format(ville_in_new))\n",
    "    print('Ville in old : {}'.format(ville_in_old))\n",
    "    print('Ville in both : {}'.format(ville_inter))\n",
    "    print('Ville new : {}'.format(ville_new))\n",
    "\n",
    "# Calculating information\n",
    "old_mean = df_old.groupby('ville').mean()[['prix', 'surface', 'prix_m2']].applymap(lambda x : np.round(x,2))\n",
    "old_d1 = df_old.groupby('ville').quantile(q=0.1)[['prix', 'surface', 'prix_m2']].applymap(lambda x : np.round(x,2))\n",
    "\n",
    "# Computing columuns for comparison\n",
    "df_new['moy_ville'] = df_new['ville'].apply(lambda x: old_mean.loc[x,'prix_m2'] if x in ville_inter else -1)  \n",
    "df_new['inf_moy_ville'] = df_new['prix_m2'] < df_new['moy_ville']\n",
    "\n",
    "df_new['d1_ville'] = df_new['ville'].apply(lambda x: old_d1.loc[x,'prix_m2'] if x in ville_inter else  -1) # Ville nouvelle => Moy à 0\n",
    "df_new['inf_d1_ville'] = df_new['prix_m2'] < df_new['d1_ville']\n",
    "\n",
    "df_new['pct_mieux_m2'] = ((df_new['prix_m2'] - df_new['moy_ville']).div(df_new['moy_ville'])*100).apply(np.round)\n",
    "\n",
    "df_new.loc[df_new['moy_ville']<0, ['inf_moy_ville' ,'inf_d1_ville']] = False\n",
    "df_new.loc[df_new['moy_ville']<0, [ 'd1_ville', 'pct_mieux_m2']] = np.NaN\n",
    "\n",
    "# Selectiong onlu lines where price is in decil one\n",
    "df_inf_d1 = df_new[df_new.inf_d1_ville]\n",
    "\n",
    "if len(df_inf_d1) == 0:\n",
    "    print('> No new line : nothing to update.')\n",
    "else:\n",
    "    # Computing the message for slack\n",
    "    message = ''\n",
    "    for key, value in df_inf_d1.ville.value_counts().sort_index().to_dict().items():\n",
    "        message += '*{}*:{} annonces décile 1.\\n'.format(key, value)\n",
    "\n",
    "    default_url = 'www.google.fr'\n",
    "    for i in df_inf_d1.sort_values(by='ville').iterrows():\n",
    "        line = i[1]\n",
    "        ville = line['ville']\n",
    "        #url = line['url']\n",
    "        url = default_url\n",
    "        prix = line['prix']\n",
    "        surface = line['surface']\n",
    "        moy_ville = line['moy_ville']\n",
    "        prix_m2 = line['prix_m2']\n",
    "        pct_mieux_m2 = line['pct_mieux_m2']\n",
    "        ville_url = '\\n<{}|{}>'.format(url, ville) \n",
    "        message += '\\n{} : {} m², {} €, \\n[€/m² *{}* vs {} : {}%]'.format(ville_url, surface, prix, prix_m2, moy_ville, pct_mieux_m2)\n",
    "\n",
    "    "
   ]
  },
  {
   "cell_type": "markdown",
   "metadata": {},
   "source": [
    "# 3. Saving"
   ]
  },
  {
   "cell_type": "code",
   "execution_count": 8,
   "metadata": {},
   "outputs": [],
   "source": [
    "def save_alert(message, channel=\"test_channel\"):\n",
    "    alert = {\"channel\":channel,\n",
    "            \"message\":message,\n",
    "            \"emoji\":\":female-firefighter:\"}\n",
    "    \n",
    "    folder = 'data/alert_files/'\n",
    "    now = f.get_now()\n",
    "    path = '{}/alert_{}.json'.format(folder, now)\n",
    "    with open(path, 'w') as outfile:  \n",
    "        json.dump(alert, outfile)\n"
   ]
  },
  {
   "cell_type": "code",
   "execution_count": 9,
   "metadata": {},
   "outputs": [],
   "source": [
    "def save_process_data_history():\n",
    "    return None"
   ]
  },
  {
   "cell_type": "code",
   "execution_count": 10,
   "metadata": {},
   "outputs": [],
   "source": [
    "def concat_process_with_previous(new=2):\n",
    "    return new"
   ]
  },
  {
   "cell_type": "code",
   "execution_count": 11,
   "metadata": {},
   "outputs": [],
   "source": [
    "def save_ids():\n",
    "    return None"
   ]
  },
  {
   "cell_type": "code",
   "execution_count": 12,
   "metadata": {},
   "outputs": [],
   "source": [
    "save_alert(message)\n",
    "save_process_data_history()\n",
    "concat_process_with_previous()\n",
    "save_ids()"
   ]
  },
  {
   "cell_type": "code",
   "execution_count": null,
   "metadata": {},
   "outputs": [],
   "source": []
  }
 ],
 "metadata": {
  "kernelspec": {
   "display_name": "Python 3",
   "language": "python",
   "name": "python3"
  },
  "language_info": {
   "codemirror_mode": {
    "name": "ipython",
    "version": 3
   },
   "file_extension": ".py",
   "mimetype": "text/x-python",
   "name": "python",
   "nbconvert_exporter": "python",
   "pygments_lexer": "ipython3",
   "version": "3.6.8"
  }
 },
 "nbformat": 4,
 "nbformat_minor": 2
}
