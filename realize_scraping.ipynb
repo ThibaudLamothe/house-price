{
 "cells": [
  {
   "cell_type": "markdown",
   "metadata": {},
   "source": [
    "Run spider, copy data to local folder.\n",
    "\n",
    "Certain files might be empty : not a problem here, but to take into account in next steps.\n",
    "\n",
    "    - READ : *.py   - utils/functions.py\n",
    "    - READ : *.jl   - scraped data from other fodler on the computer (scraping projects)\n",
    "    - READ : *.json - data/processed_data (ID of already stored data in json files => keep only new ones)\n",
    "    - WRITE: *.csv  - data/raw_data (main and history)"
   ]
  },
  {
   "cell_type": "markdown",
   "metadata": {},
   "source": [
    "# 0. General"
   ]
  },
  {
   "cell_type": "code",
   "execution_count": 49,
   "metadata": {},
   "outputs": [],
   "source": [
    "import os\n",
    "import json\n",
    "import datetime\n",
    "import numpy as np\n",
    "import pandas as pd\n",
    "from utils import functions as f"
   ]
  },
  {
   "cell_type": "code",
   "execution_count": 50,
   "metadata": {},
   "outputs": [
    {
     "name": "stdout",
     "output_type": "stream",
     "text": [
      "2019-05-31_10-28-34\n"
     ]
    }
   ],
   "source": [
    "now = f.get_now()\n",
    "scrapping=False\n",
    "print(now)"
   ]
  },
  {
   "cell_type": "markdown",
   "metadata": {},
   "source": [
    "# 1. Scraping"
   ]
  },
  {
   "cell_type": "code",
   "execution_count": 51,
   "metadata": {},
   "outputs": [],
   "source": [
    "from shutil import copyfile"
   ]
  },
  {
   "cell_type": "code",
   "execution_count": 52,
   "metadata": {},
   "outputs": [],
   "source": [
    "def run_spider(link, spider_name, file_name, max_page=None, start_url=None):\n",
    "    \n",
    "    # Eventually remove previous existing file\n",
    "    \n",
    "    # Prepare command to execute spider\n",
    "    cmd1 = 'cd \"{}\"'.format(link)\n",
    "    cmd2 = 'scrapy crawl {} -o {}'.format(spider_name, file_name)\n",
    "    if max_page:\n",
    "        cmd2 = cmd2 + ' -a max_page={}'.format(max_page)\n",
    "    if start_url:\n",
    "        cmd2 = cmd2 + ' -a start_url=\"{}\"'.format(start_url)\n",
    "    \n",
    "    # Run spider\n",
    "    cmd = \"{} && {}\".format(cmd1, cmd2)\n",
    "    rep = os.system(cmd)\n",
    "    \n",
    "    # Display result\n",
    "    if rep==0:\n",
    "        print(\"Spider {} successfully run\".format(spider_name))\n",
    "    else:\n",
    "        print(\"Couldn't run spider {}\".format(spider_name))"
   ]
  },
  {
   "cell_type": "code",
   "execution_count": 53,
   "metadata": {},
   "outputs": [],
   "source": [
    "def get_immo_data(source, source_link, dest_folder='data/raw_data', now=f.get_now()):\n",
    "    \n",
    "    # Compute source path\n",
    "    path_source = '{}/{}_immo.jl'.format(source_link, source)\n",
    "    \n",
    "    # Save data for history\n",
    "    path_dest_history = '{}/history/{}_{}.jl'.format(dest_folder, source, now)\n",
    "    copyfile(path_source, path_dest_history)\n",
    "    \n",
    "    # Save tmp data for processing pipeline\n",
    "    path_dest_pipeline = '{}/raw_{}.jl'.format(dest_folder, source)\n",
    "    copyfile(path_source, path_dest_pipeline)\n",
    "    \n",
    "    print('> Files {} saved.'.format(source))\n",
    "    "
   ]
  },
  {
   "cell_type": "code",
   "execution_count": 54,
   "metadata": {},
   "outputs": [],
   "source": [
    "max_page=3\n",
    "lbc_url = 'https://www.leboncoin.fr/recherche/?category=9&locations=Nantes,Rennes,Reims_51100,Bordeaux,Talence_33400,Pessac_33600,M%C3%A9rignac_33700&real_estate_type=2&immo_sell_type=old&price=75000-125000'\n",
    "pv_url ='https://www.paruvendu.fr/immobilier/annonceimmofo/liste/listeAnnonces?nbp=0&tt=1&tbApp=1&tbDup=1&tbChb=1&tbLof=1&at=1&nbp0=99&px0=90000&px1=111000&pa=FR&ddlFiltres=nofilter&codeINSEE=44XX0,35XX0,51454,33281,33318,33522,'\n",
    "sl_url = 'https://www.seloger.com/list.htm?enterprise=0&natures=1&places=[{ci:330522}|{ci:330318}|{ci:330281}|{ci:510454}|{ci:350238}|{ci:440109}|{ci:330063}|{ci:330039}]&price=50000/150000&projects=2&proximity=0,10&qsversion=1.0&types=1'"
   ]
  },
  {
   "cell_type": "code",
   "execution_count": 55,
   "metadata": {},
   "outputs": [
    {
     "name": "stdout",
     "output_type": "stream",
     "text": [
      "> Files lbc saved.\n",
      "> Files pv saved.\n",
      "> Files sl saved.\n"
     ]
    }
   ],
   "source": [
    "lbc_link = '/Users/thibaudlamothe/OneDrive - Capgemini/Documents/Python_scripts/05_Scraping/LBC/LBC'\n",
    "sl_link = '/Users/thibaudlamothe/OneDrive - Capgemini/Documents/Python_scripts/05_Scraping/SL/SL/'\n",
    "pv_link = '/Users/thibaudlamothe/OneDrive - Capgemini/Documents/Python_scripts/05_Scraping/ParuVendu/ParuVendu/'\n",
    "\n",
    "\n",
    "if scrapping:\n",
    "    run_spider(lbc_link, 'spiderLBC', 'lbc_immo.jl',max_page=max_page, start_url=lbc_url)\n",
    "    run_spider(pv_link, 'spiderPV', 'pv_immo.jl', max_page=max_page, start_url=pv_url)\n",
    "    run_spider(sl_link, 'spiderSL', 'sl_immo.jl', max_page=max_page, start_url=sl_url)\n",
    "    \n",
    "get_immo_data('lbc', lbc_link)\n",
    "get_immo_data('pv', pv_link)\n",
    "get_immo_data('sl', sl_link)\n",
    "\n",
    "lbc_file = 'data/raw_data/raw_{}.jl'.format('lbc')\n",
    "pv_file = 'data/raw_data/raw_{}.jl'.format('pv')\n",
    "sl_file = 'data/raw_data/raw_{}.jl'.format('sl')"
   ]
  },
  {
   "cell_type": "markdown",
   "metadata": {},
   "source": [
    "# 2. Selecting"
   ]
  },
  {
   "cell_type": "code",
   "execution_count": 56,
   "metadata": {},
   "outputs": [],
   "source": [
    "def filter_ids(df, col_name, list_id):\n",
    "    return df.loc[df[col_name].isin(list_id)]"
   ]
  },
  {
   "cell_type": "code",
   "execution_count": 57,
   "metadata": {},
   "outputs": [],
   "source": [
    "def get_ids(source):\n",
    "    path = 'data/processed_data/list_{}_id.json'.format(source)\n",
    "    with open(path, 'r') as fp:\n",
    "        list_id = json.load(fp)\n",
    "    list_id = list(list_id.values())\n",
    "    return list_id"
   ]
  },
  {
   "cell_type": "code",
   "execution_count": 58,
   "metadata": {},
   "outputs": [],
   "source": [
    "df_lbc = f.read_jl_file(lbc_file)\n",
    "df_pv = f.read_jl_file(pv_file)\n",
    "df_sl = f.read_jl_file(sl_file)\n",
    "\n",
    "new_lbc_ids = df_lbc['id_'].values\n",
    "new_pv_ids = df_pv['annonce'].values\n",
    "new_sl_ids = df_sl['annonce'].values"
   ]
  },
  {
   "cell_type": "code",
   "execution_count": 59,
   "metadata": {},
   "outputs": [
    {
     "name": "stdout",
     "output_type": "stream",
     "text": [
      "> is_processed\n",
      "Avant (805, 14) (441, 10) (3183, 17)\n",
      "Après (0, 14) (0, 10) (0, 17)\n",
      "> Selection ok.\n"
     ]
    }
   ],
   "source": [
    "processed_path = 'data/processed_data/process_data.csv'\n",
    "is_processed = os.path.isfile(processed_path)\n",
    "\n",
    "if is_processed:\n",
    "    print('> is_processed')\n",
    "    # Get old ids\n",
    "    lbc_ids = get_ids('lbc')\n",
    "    pv_ids = get_ids('pv')\n",
    "    sl_ids = get_ids('sl')\n",
    "    \n",
    "    # Modify data to save\n",
    "    print('Avant', df_lbc.shape, df_pv.shape, df_sl.shape)\n",
    "    df_lbc = df_lbc.pipe(filter_ids, 'id_', [id_ for id_ in new_lbc_ids if id_ not in lbc_ids])\n",
    "    df_pv = df_pv.pipe(filter_ids, 'annonce', [id_ for id_ in new_pv_ids if id_ not in pv_ids])\n",
    "    df_sl = df_sl.pipe(filter_ids, 'annonce', [id_ for id_ in new_sl_ids if id_ not in sl_ids])\n",
    "    print('Après', df_lbc.shape, df_pv.shape, df_sl.shape)\n",
    "\n",
    "print('> Selection ok.')"
   ]
  },
  {
   "cell_type": "markdown",
   "metadata": {},
   "source": [
    "# 3. Saving"
   ]
  },
  {
   "cell_type": "code",
   "execution_count": 60,
   "metadata": {},
   "outputs": [
    {
     "name": "stdout",
     "output_type": "stream",
     "text": [
      "> New data saved.\n"
     ]
    }
   ],
   "source": [
    "tmp_folder = 'data/new_tmp_data'\n",
    "df_lbc.to_csv('{}/new_lbc.csv'.format(tmp_folder), header=True, index=False)\n",
    "df_sl.to_csv('{}/new_sl.csv'.format(tmp_folder), header=True, index=False)\n",
    "df_pv.to_csv('{}/new_pv.csv'.format(tmp_folder), header=True, index=False)\n",
    "print('> New data saved.')"
   ]
  },
  {
   "cell_type": "code",
   "execution_count": 62,
   "metadata": {},
   "outputs": [
    {
     "data": {
      "text/html": [
       "<div>\n",
       "<style scoped>\n",
       "    .dataframe tbody tr th:only-of-type {\n",
       "        vertical-align: middle;\n",
       "    }\n",
       "\n",
       "    .dataframe tbody tr th {\n",
       "        vertical-align: top;\n",
       "    }\n",
       "\n",
       "    .dataframe thead th {\n",
       "        text-align: right;\n",
       "    }\n",
       "</style>\n",
       "<table border=\"1\" class=\"dataframe\">\n",
       "  <thead>\n",
       "    <tr style=\"text-align: right;\">\n",
       "      <th></th>\n",
       "      <th>auteur</th>\n",
       "      <th>categorie</th>\n",
       "      <th>code_postal</th>\n",
       "      <th>critere</th>\n",
       "      <th>date_absolue</th>\n",
       "      <th>description</th>\n",
       "      <th>id_</th>\n",
       "      <th>is_msg</th>\n",
       "      <th>is_num</th>\n",
       "      <th>nb_pict</th>\n",
       "      <th>prix</th>\n",
       "      <th>titre</th>\n",
       "      <th>url</th>\n",
       "      <th>ville</th>\n",
       "    </tr>\n",
       "  </thead>\n",
       "  <tbody>\n",
       "  </tbody>\n",
       "</table>\n",
       "</div>"
      ],
      "text/plain": [
       "Empty DataFrame\n",
       "Columns: [auteur, categorie, code_postal, critere, date_absolue, description, id_, is_msg, is_num, nb_pict, prix, titre, url, ville]\n",
       "Index: []"
      ]
     },
     "execution_count": 62,
     "metadata": {},
     "output_type": "execute_result"
    }
   ],
   "source": [
    "df_lbc"
   ]
  },
  {
   "cell_type": "code",
   "execution_count": null,
   "metadata": {},
   "outputs": [],
   "source": []
  },
  {
   "cell_type": "code",
   "execution_count": null,
   "metadata": {},
   "outputs": [],
   "source": []
  }
 ],
 "metadata": {
  "kernelspec": {
   "display_name": "Python 3",
   "language": "python",
   "name": "python3"
  },
  "language_info": {
   "codemirror_mode": {
    "name": "ipython",
    "version": 3
   },
   "file_extension": ".py",
   "mimetype": "text/x-python",
   "name": "python",
   "nbconvert_exporter": "python",
   "pygments_lexer": "ipython3",
   "version": "3.7.3"
  }
 },
 "nbformat": 4,
 "nbformat_minor": 4
}
