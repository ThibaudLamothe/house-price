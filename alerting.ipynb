{
 "cells": [
  {
   "cell_type": "code",
   "execution_count": 1,
   "metadata": {},
   "outputs": [],
   "source": [
    "import os\n",
    "import json \n",
    "import datetime\n",
    "import numpy as np\n",
    "import pandas as pd\n",
    "\n",
    "from utils import functions as f\n",
    "#pd.options.mode.chained_assignment = None"
   ]
  },
  {
   "cell_type": "markdown",
   "metadata": {},
   "source": [
    "# 1. Preparation"
   ]
  },
  {
   "cell_type": "code",
   "execution_count": 3,
   "metadata": {},
   "outputs": [],
   "source": [
    "from slacker import Slacker\n",
    "\n",
    "def get_slack_token(path):\n",
    "    with open(path, \"r\") as fichier:\n",
    "        token =  fichier.read()\n",
    "    return token \n",
    "\n",
    "def create_slack(slack_api_token):\n",
    "    slack = Slacker(slack_api_token)\n",
    "    return slack\n",
    "\n",
    "token_path = 'data/slack.token'\n",
    "token = get_slack_token(token_path)\n",
    "slack = create_slack()"
   ]
  },
  {
   "cell_type": "code",
   "execution_count": 5,
   "metadata": {},
   "outputs": [],
   "source": [
    "if True:\n",
    "    msg_return = slack.chat.post_message(channel='test_channel',\n",
    "                            text='Test blablabla',\n",
    "                            username='Alert',\n",
    "                            icon_emoji=':female-firefighter:')"
   ]
  },
  {
   "cell_type": "code",
   "execution_count": 4,
   "metadata": {},
   "outputs": [],
   "source": [
    "def save_ts_analyse():\n",
    "    ts = str(datetime.datetime.now())[:19]\n",
    "    with open('data/last_analyse.txt', 'w') as f:\n",
    "        f.write(ts)\n",
    "def load_ts_analyse():\n",
    "    with open('data/last_analyse.txt', 'r') as f:\n",
    "        ts = f.read()\n",
    "    ts = pd.to_datetime(ts)\n",
    "    return ts"
   ]
  },
  {
   "cell_type": "markdown",
   "metadata": {},
   "source": [
    "# 3. Start Analysis"
   ]
  },
  {
   "cell_type": "code",
   "execution_count": 5,
   "metadata": {},
   "outputs": [],
   "source": [
    "def parse_alert(alert):\n",
    "    message = alert['message']\n",
    "    channel = alert['channel']\n",
    "    emoji = alert['emoji']\n",
    "    return message, channel, emoji"
   ]
  },
  {
   "cell_type": "code",
   "execution_count": 6,
   "metadata": {},
   "outputs": [],
   "source": [
    "def get_new_alert_files():\n",
    "    last_analyse = str(load_ts_analyse())[:19].replace(' ', '_').replace(':', '-')\n",
    "\n",
    "    path = 'data/alert_files/'\n",
    "    list_alerts = os.listdir(path)\n",
    "    date_alerts = [i[6:-5] for i in list_alerts if 'alert' in i]\n",
    "\n",
    "    new_alerts = [alert for alert in date_alerts if alert > last_analyse]\n",
    "    new_files = ['alert_{}.json'.format(file) for file in new_alerts]\n",
    "    return new_files"
   ]
  },
  {
   "cell_type": "code",
   "execution_count": 7,
   "metadata": {},
   "outputs": [],
   "source": [
    "path = 'data/alert_files/'\n",
    "for file in get_new_alert_files():\n",
    "    print('> Dealing with file : {}'.format(file))\n",
    "    with open(path+file) as json_file:  \n",
    "        alert = json.load(json_file)\n",
    "    message, channel , emoji = parse_alert(alert)\n",
    "    print(channel, emoji, len(message))\n",
    "    \n",
    "    msg_return = slack.chat.post_message(channel=channel,\n",
    "                                text=message,\n",
    "                                username='Alert',\n",
    "                                icon_emoji=emoji)\n",
    "\n",
    "    # Savin execution date for next analysis\n",
    "    if msg_return.successful:\n",
    "        print('> Everything OK : message sent to slack')\n",
    "        save_ts_analyse()\n",
    "    else:\n",
    "        print('> An error occured while sending slack message')"
   ]
  },
  {
   "cell_type": "code",
   "execution_count": null,
   "metadata": {},
   "outputs": [],
   "source": []
  },
  {
   "cell_type": "code",
   "execution_count": null,
   "metadata": {},
   "outputs": [],
   "source": []
  }
 ],
 "metadata": {
  "kernelspec": {
   "display_name": "Python 3",
   "language": "python",
   "name": "python3"
  },
  "language_info": {
   "codemirror_mode": {
    "name": "ipython",
    "version": 3
   },
   "file_extension": ".py",
   "mimetype": "text/x-python",
   "name": "python",
   "nbconvert_exporter": "python",
   "pygments_lexer": "ipython3",
   "version": "3.7.3"
  }
 },
 "nbformat": 4,
 "nbformat_minor": 4
}
